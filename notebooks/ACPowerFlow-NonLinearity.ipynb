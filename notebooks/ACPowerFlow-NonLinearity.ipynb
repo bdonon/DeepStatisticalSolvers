{
 "cells": [
  {
   "cell_type": "markdown",
   "metadata": {
    "collapsed": true,
    "pycharm": {
     "name": "#%% md\n"
    }
   },
   "source": [
    "In this notebook, we aim at quantifying the non-linearity of the\n",
    "AC Power Flow datasets."
   ]
  },
  {
   "cell_type": "code",
   "execution_count": 1,
   "outputs": [],
   "source": [
    "import os\n",
    "os.chdir('..')\n",
    "\n",
    "import numpy as np"
   ],
   "metadata": {
    "collapsed": false,
    "pycharm": {
     "name": "#%%\n"
    }
   }
  },
  {
   "cell_type": "code",
   "execution_count": 2,
   "outputs": [],
   "source": [
    "# Select dataset\n",
    "data_dir = 'datasets/acpf_14'\n",
    "#data_dir = 'datasets/linear_systems'\n",
    "\n",
    "# Load the train set\n",
    "mode = 'train'\n",
    "\n",
    "# Import numpy data\n",
    "A_train = np.load(os.path.join(data_dir, 'A_'+mode+'.npy'))\n",
    "B_train = np.load(os.path.join(data_dir, 'B_'+mode+'.npy'))\n",
    "U_train = np.load(os.path.join(data_dir, 'U_'+mode+'.npy'))"
   ],
   "metadata": {
    "collapsed": false,
    "pycharm": {
     "name": "#%%\n"
    }
   }
  },
  {
   "cell_type": "code",
   "execution_count": 3,
   "outputs": [],
   "source": [
    "n_samples = np.shape(A_train)[0]\n",
    "\n",
    "A_train_flat = np.reshape(A_train, [n_samples, -1])\n",
    "B_train_flat = np.reshape(B_train, [n_samples, -1])\n",
    "U_train_flat = np.reshape(U_train, [n_samples, -1])\n",
    "\n",
    "X = np.concatenate((A_train_flat, B_train_flat), axis=1)\n",
    "Y = U_train_flat"
   ],
   "metadata": {
    "collapsed": false,
    "pycharm": {
     "name": "#%%\n"
    }
   }
  },
  {
   "cell_type": "code",
   "execution_count": 4,
   "outputs": [
    {
     "data": {
      "text/plain": "LinearRegression()"
     },
     "execution_count": 4,
     "metadata": {},
     "output_type": "execute_result"
    }
   ],
   "source": [
    "from sklearn import linear_model\n",
    "regr = linear_model.LinearRegression()\n",
    "regr.fit(X, Y)"
   ],
   "metadata": {
    "collapsed": false,
    "pycharm": {
     "name": "#%%\n"
    }
   }
  },
  {
   "cell_type": "code",
   "execution_count": 5,
   "outputs": [],
   "source": [
    "# Load the train set\n",
    "mode = 'test'\n",
    "\n",
    "# Import numpy data\n",
    "A_test = np.load(os.path.join(data_dir, 'A_'+mode+'.npy'))\n",
    "B_test = np.load(os.path.join(data_dir, 'B_'+mode+'.npy'))\n",
    "U_test = np.load(os.path.join(data_dir, 'U_'+mode+'.npy'))\n",
    "\n",
    "n_samples = np.shape(A_test)[0]\n",
    "\n",
    "A_test_flat = np.reshape(A_test, [n_samples, -1])\n",
    "B_test_flat = np.reshape(B_test, [n_samples, -1])\n",
    "U_test_flat = np.reshape(U_test, [n_samples, -1])\n",
    "\n",
    "X_test = np.concatenate((A_test_flat, B_test_flat), axis=1)\n",
    "Y_test = U_test_flat\n"
   ],
   "metadata": {
    "collapsed": false,
    "pycharm": {
     "name": "#%%\n"
    }
   }
  },
  {
   "cell_type": "code",
   "execution_count": 6,
   "outputs": [
    {
     "name": "stdout",
     "output_type": "stream",
     "text": [
      "[[1.         0.99940864]\n",
      " [0.99940864 1.        ]]\n",
      "[[1.         0.99599181]\n",
      " [0.99599181 1.        ]]\n"
     ]
    }
   ],
   "source": [
    "pred_test = regr.predict(X_test)\n",
    "pred_test = np.reshape(pred_test, U_test.shape)\n",
    "pred_Vm_test = np.reshape(pred_test[:,:,0], -1)\n",
    "pred_Va_test = np.reshape(pred_test[:,:,1], -1)\n",
    "\n",
    "gt_Vm_test = np.reshape(U_test[:,:,0], -1)\n",
    "gt_Va_test = np.reshape(U_test[:,:,1], -1)\n",
    "\n",
    "print(np.corrcoef(pred_Vm_test, gt_Vm_test))\n",
    "print(np.corrcoef(pred_Va_test, gt_Va_test))"
   ],
   "metadata": {
    "collapsed": false,
    "pycharm": {
     "name": "#%%\n"
    }
   }
  },
  {
   "cell_type": "code",
   "execution_count": 7,
   "outputs": [
    {
     "data": {
      "text/plain": "<Figure size 432x288 with 1 Axes>",
      "image/png": "[encoded data removed]"
     },
     "metadata": {
      "needs_background": "light"
     },
     "output_type": "display_data"
    },
    {
     "data": {
      "text/plain": "<Figure size 432x288 with 1 Axes>",
      "image/png": "[encoded data removed]"
     },
     "metadata": {
      "needs_background": "light"
     },
     "output_type": "display_data"
    }
   ],
   "source": [
    "import matplotlib.pyplot as plt\n",
    "\n",
    "plt.scatter(pred_Vm_test, gt_Vm_test)\n",
    "plt.ylim([0.9, 1.1])\n",
    "plt.xlim([0.9, 1.1])\n",
    "plt.show()\n",
    "\n",
    "plt.scatter(pred_Va_test, gt_Va_test)\n",
    "plt.xlim([-1, 1])\n",
    "plt.show()"
   ],
   "metadata": {
    "collapsed": false,
    "pycharm": {
     "name": "#%%\n"
    }
   }
  },
  {
   "cell_type": "code",
   "execution_count": 7,
   "outputs": [],
   "source": [],
   "metadata": {
    "collapsed": false,
    "pycharm": {
     "name": "#%%\n"
    }
   }
  }
 ],
 "metadata": {
  "kernelspec": {
   "display_name": "Python 3",
   "language": "python",
   "name": "python3"
  },
  "language_info": {
   "codemirror_mode": {
    "name": "ipython",
    "version": 2
   },
   "file_extension": ".py",
   "mimetype": "text/x-python",
   "name": "python",
   "nbconvert_exporter": "python",
   "pygments_lexer": "ipython2",
   "version": "2.7.6"
  }
 },
 "nbformat": 4,
 "nbformat_minor": 0
}